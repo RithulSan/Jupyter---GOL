{
 "cells": [
  {
   "cell_type": "code",
   "execution_count": 2,
   "id": "dbc9bfa4",
   "metadata": {},
   "outputs": [
    {
     "name": "stdout",
     "output_type": "stream",
     "text": [
      "Enter the number of times you want to run: 8\n",
      "[[0, 1, 1, 0], [1, 0, 0, 1], [0, 1, 0, 0], [0, 0, 1, 1]]\n",
      "[[0, 1, 1, 0], [1, 0, 0, 0], [0, 1, 0, 1], [0, 0, 1, 0]]\n",
      "[[0, 1, 0, 0], [1, 0, 0, 0], [0, 1, 1, 0], [0, 0, 1, 0]]\n",
      "[[0, 0, 0, 0], [1, 0, 1, 0], [0, 1, 1, 0], [0, 1, 1, 0]]\n",
      "[[0, 0, 0, 0], [0, 0, 1, 0], [1, 0, 0, 1], [0, 1, 1, 0]]\n",
      "[[0, 0, 0, 0], [0, 0, 0, 0], [0, 0, 0, 1], [0, 1, 1, 0]]\n",
      "[[0, 0, 0, 0], [0, 0, 0, 0], [0, 0, 1, 0], [0, 0, 1, 0]]\n",
      "[[0, 0, 0, 0], [0, 0, 0, 0], [0, 0, 0, 0], [0, 0, 0, 0]]\n"
     ]
    }
   ],
   "source": [
    "a = [[1,1,0,0],\n",
    "     [0,0,1,1,],\n",
    "     [0,1,0,1],\n",
    "     [0,0,1,1]]\n",
    "\n",
    "\n",
    "row_num = len(a)\n",
    "col_num = len(a[0])\n",
    "\n",
    "def gol_trans(i,j,a):\n",
    "    run_sum = 0\n",
    "    if 0 <= i-1 < len(a):\n",
    "        # adding top top\n",
    "        run_sum = run_sum + a[i-1][j]\n",
    "        if 0 <= j-1 < len(a[0]):\n",
    "            # added top left \n",
    "            run_sum = run_sum + a[i-1][j-1]\n",
    "        if 0 <= j+1 < len(a[0]):\n",
    "            #adding top right \n",
    "            run_sum = run_sum + a[i-1][j+1]\n",
    "\n",
    "\n",
    "    if 0 <= i < len(a):\n",
    "        if 0 <= j-1 < len(a[0]):\n",
    "            # added middle left\n",
    "            run_sum = run_sum + a[i][j-1]\n",
    "        if 0 <= j+1 < len(a[0]):\n",
    "            #adding middle right \n",
    "            run_sum = run_sum + a[i][j+1]\n",
    "\n",
    "\n",
    "    if 0 <= i+1 < len(a):\n",
    "        #adding bottom bottom\n",
    "        run_sum = run_sum + a[i+1][j]\n",
    "\n",
    "        if 0 <= j-1 < len(a[0]):\n",
    "            # added bottom left\n",
    "            run_sum = run_sum + a[i+1][j-1]\n",
    "        if 0 <= j+1 < len(a[0]):\n",
    "            #adding bottom right\n",
    "            run_sum = run_sum + a[i+1][j+1]\n",
    "            \n",
    "    if a[i][j] == 0:\n",
    "        if run_sum == 3:\n",
    "            return 1\n",
    "        else: \n",
    "            return 0   \n",
    "           \n",
    "    elif a[i][j] == 1:\n",
    "        if run_sum < 2 or run_sum > 3:\n",
    "            return 0\n",
    "        else:\n",
    "            return 1\n",
    "        \n",
    "        \n",
    "def newg(old_gen):\n",
    "    new_gen = [[0,0,0,0],[0,0,1,1,],[0,1,0,1],[0,0,1,1]]\n",
    "    for i in range(0,row_num):\n",
    "        for j in range(0,col_num):\n",
    "            new_gen[i][j]=gol_trans(i,j,old_gen)\n",
    "    return new_gen\n",
    "        \n",
    "\n",
    "\n",
    "n = int(input('Enter the number of times you want to run: '))\n",
    "for x in range(n):\n",
    "    a_new = newg(a)\n",
    "    a = a_new\n",
    "    print(a_new)"
   ]
  },
  {
   "cell_type": "code",
   "execution_count": null,
   "id": "4a3a09ba",
   "metadata": {},
   "outputs": [],
   "source": []
  }
 ],
 "metadata": {
  "kernelspec": {
   "display_name": "Python 3 (ipykernel)",
   "language": "python",
   "name": "python3"
  },
  "language_info": {
   "codemirror_mode": {
    "name": "ipython",
    "version": 3
   },
   "file_extension": ".py",
   "mimetype": "text/x-python",
   "name": "python",
   "nbconvert_exporter": "python",
   "pygments_lexer": "ipython3",
   "version": "3.10.9"
  }
 },
 "nbformat": 4,
 "nbformat_minor": 5
}
